{
 "cells": [
  {
   "cell_type": "markdown",
   "id": "fc154fed-0427-4d7e-8018-30bd53f9038a",
   "metadata": {},
   "source": [
    "# Identifying Missing Data in the Caltrans/PeMS Dataset\n",
    "\n",
    "The California Department of Transportation (Caltrans) collects data that describes the flow of traffic on California freeways. Caltrans stores these data in a database called PeMS. The data describe the number of counts per unit time meaured by roughly 45,000 sensors on a 30-second cadence. The type of sensor varies considerably, e.g. radar and magnetometers (see Chapter 1 of the [Introduction to PeMS User Guide](https://pems.dot.ca.gov/Papers/PeMS_Intro_User_Guide_v6.pdf)). \n",
    "\n",
    "In some cases, these data are missing. Faulty or broken sensors do not collect data. Or sensor data is not wirelessly transmitted back to PeMS. In addition, Caltrans performs some calculations to convert these raw sensor data into physical observables such as speed. These calculations include some assumptions such as the length of the vehicle, or $g$. Based on the quality of the assumption, these data can include errors.\n",
    "\n",
    "In this notebook, we will take a look at the nature of the missing data. Some questions to ask:\n",
    "1. Are all the data available for the most recent year, 2023?\n",
    "2. Are all the data available for the most recent decade, 2013-2023?\n",
    "3. If data are missing, do they occur in any spatial or temporal clusters?"
   ]
  },
  {
   "cell_type": "markdown",
   "id": "6ee1f7ef-5c05-4177-b9fd-f54643309be0",
   "metadata": {
    "tags": []
   },
   "source": [
    "### Setup"
   ]
  },
  {
   "cell_type": "code",
   "execution_count": 1,
   "id": "b0bf5677-23e9-44bc-adae-cd5c10acebf8",
   "metadata": {
    "tags": []
   },
   "outputs": [],
   "source": [
    "import ibis\n",
    "import os\n",
    "import numpy as np\n",
    "import pandas as pd\n",
    "import seaborn as sns\n",
    "import itertools\n",
    "\n",
    "import matplotlib.pyplot as plt\n",
    "\n",
    "from dotenv import load_dotenv\n",
    "from functools import reduce\n",
    "from datetime import datetime as dt_obj\n",
    "\n",
    "%matplotlib inline\n",
    "%config InlineBackend.figure_format = 'retina'\n",
    "\n",
    "pd.set_option('display.max_columns', 200)\n",
    "pd.set_option('display.max_rows', 3000)"
   ]
  },
  {
   "cell_type": "code",
   "execution_count": 2,
   "id": "a0a14871-35fe-4974-955d-80e41f2af34e",
   "metadata": {},
   "outputs": [],
   "source": [
    "load_dotenv(override=True)\n",
    "USERNAME = os.getenv('USERNAME')\n",
    "PASSWORD = os.getenv('PASSWORD')"
   ]
  },
  {
   "cell_type": "code",
   "execution_count": 3,
   "id": "d7990f64-92fa-4950-b6f0-8eae6013cb58",
   "metadata": {},
   "outputs": [],
   "source": [
    "con = ibis.snowflake.connect(\n",
    "    user=USERNAME,\n",
    "    password=PASSWORD,\n",
    "    role='TRANSFORMER_DEV',\n",
    "    warehouse='TRANSFORMING_XS_DEV',\n",
    "    account=\"VSB79059-DSE_CALTRANS_PEMS\",\n",
    "    database=\"RAW_DEV/CLEARINGHOUSE\",\n",
    ")"
   ]
  },
  {
   "cell_type": "code",
   "execution_count": 4,
   "id": "151a33e2-26cc-4ba5-a25f-cadf50e4b83a",
   "metadata": {},
   "outputs": [
    {
     "name": "stderr",
     "output_type": "stream",
     "text": [
      "/Users/monica.bobra/Library/Caches/pypoetry/virtualenvs/caldata-mdsa-caltrans-pems-4CtDAEQU-py3.10/lib/python3.10/site-packages/ibis/backends/snowflake/__init__.py:268: UserWarning: Unable to create map UDFs, some functionality will not work: 003001 (42501): SQL access control error:\n",
      "Insufficient privileges to operate on account 'NGB13288'\n",
      "  warnings.warn(\n"
     ]
    }
   ],
   "source": [
    "station_metadata = con.table(\"STATION_META\");\n",
    "station_raw = con.table(\"STATION_RAW\");\n",
    "station_status = con.table(\"STATION_STATUS\");"
   ]
  },
  {
   "cell_type": "code",
   "execution_count": 5,
   "id": "3956723f-87a0-4f0d-a172-c6059c61d6a9",
   "metadata": {},
   "outputs": [],
   "source": [
    "station_metadata_df = station_metadata.execute(limit=10)\n",
    "station_raw_df = station_raw.execute(limit=10)\n",
    "station_status_df = station_status.execute(limit=10)"
   ]
  },
  {
   "cell_type": "code",
   "execution_count": 6,
   "id": "f3b7be8b-fd54-4d3a-9bcf-c6b9fe8b5db8",
   "metadata": {},
   "outputs": [
    {
     "data": {
      "text/html": [
       "<div>\n",
       "<style scoped>\n",
       "    .dataframe tbody tr th:only-of-type {\n",
       "        vertical-align: middle;\n",
       "    }\n",
       "\n",
       "    .dataframe tbody tr th {\n",
       "        vertical-align: top;\n",
       "    }\n",
       "\n",
       "    .dataframe thead th {\n",
       "        text-align: right;\n",
       "    }\n",
       "</style>\n",
       "<table border=\"1\" class=\"dataframe\">\n",
       "  <thead>\n",
       "    <tr style=\"text-align: right;\">\n",
       "      <th></th>\n",
       "      <th>FILENAME</th>\n",
       "      <th>SAMPLE_TIMESTAMP</th>\n",
       "      <th>SAMPLE_DATE</th>\n",
       "      <th>ID</th>\n",
       "      <th>FLOW_1</th>\n",
       "      <th>OCCUPANCY_1</th>\n",
       "      <th>SPEED_1</th>\n",
       "      <th>FLOW_2</th>\n",
       "      <th>OCCUPANCY_2</th>\n",
       "      <th>SPEED_2</th>\n",
       "      <th>FLOW_3</th>\n",
       "      <th>OCCUPANCY_3</th>\n",
       "      <th>SPEED_3</th>\n",
       "      <th>FLOW_4</th>\n",
       "      <th>OCCUPANCY_4</th>\n",
       "      <th>SPEED_4</th>\n",
       "      <th>FLOW_5</th>\n",
       "      <th>OCCUPANCY_5</th>\n",
       "      <th>SPEED_5</th>\n",
       "      <th>FLOW_6</th>\n",
       "      <th>OCCUPANCY_6</th>\n",
       "      <th>SPEED_6</th>\n",
       "      <th>FLOW_7</th>\n",
       "      <th>OCCUPANCY_7</th>\n",
       "      <th>SPEED_7</th>\n",
       "      <th>FLOW_8</th>\n",
       "      <th>OCCUPANCY_8</th>\n",
       "      <th>SPEED_8</th>\n",
       "    </tr>\n",
       "  </thead>\n",
       "  <tbody>\n",
       "    <tr>\n",
       "      <th>0</th>\n",
       "      <td>clhouse/raw/d04/2012/04/d04_text_station_raw_2...</td>\n",
       "      <td>2012-04-06 06:54:17</td>\n",
       "      <td>2012-04-06</td>\n",
       "      <td>401702</td>\n",
       "      <td>7</td>\n",
       "      <td>0.0361</td>\n",
       "      <td>71.0</td>\n",
       "      <td>4</td>\n",
       "      <td>0.0317</td>\n",
       "      <td>65.0</td>\n",
       "      <td>NaN</td>\n",
       "      <td>NaN</td>\n",
       "      <td>NaN</td>\n",
       "      <td>NaN</td>\n",
       "      <td>NaN</td>\n",
       "      <td>NaN</td>\n",
       "      <td>NaN</td>\n",
       "      <td>NaN</td>\n",
       "      <td>NaN</td>\n",
       "      <td>NaN</td>\n",
       "      <td>NaN</td>\n",
       "      <td>NaN</td>\n",
       "      <td>NaN</td>\n",
       "      <td>NaN</td>\n",
       "      <td>NaN</td>\n",
       "      <td>NaN</td>\n",
       "      <td>NaN</td>\n",
       "      <td>NaN</td>\n",
       "    </tr>\n",
       "    <tr>\n",
       "      <th>1</th>\n",
       "      <td>clhouse/raw/d04/2012/04/d04_text_station_raw_2...</td>\n",
       "      <td>2012-04-06 06:54:17</td>\n",
       "      <td>2012-04-06</td>\n",
       "      <td>401703</td>\n",
       "      <td>1</td>\n",
       "      <td>0.0067</td>\n",
       "      <td>65.0</td>\n",
       "      <td>3</td>\n",
       "      <td>0.0172</td>\n",
       "      <td>71.0</td>\n",
       "      <td>NaN</td>\n",
       "      <td>NaN</td>\n",
       "      <td>NaN</td>\n",
       "      <td>NaN</td>\n",
       "      <td>NaN</td>\n",
       "      <td>NaN</td>\n",
       "      <td>NaN</td>\n",
       "      <td>NaN</td>\n",
       "      <td>NaN</td>\n",
       "      <td>NaN</td>\n",
       "      <td>NaN</td>\n",
       "      <td>NaN</td>\n",
       "      <td>NaN</td>\n",
       "      <td>NaN</td>\n",
       "      <td>NaN</td>\n",
       "      <td>NaN</td>\n",
       "      <td>NaN</td>\n",
       "      <td>NaN</td>\n",
       "    </tr>\n",
       "    <tr>\n",
       "      <th>2</th>\n",
       "      <td>clhouse/raw/d04/2012/04/d04_text_station_raw_2...</td>\n",
       "      <td>2012-04-06 06:54:17</td>\n",
       "      <td>2012-04-06</td>\n",
       "      <td>401704</td>\n",
       "      <td>0</td>\n",
       "      <td>0.0000</td>\n",
       "      <td>0.0</td>\n",
       "      <td>0</td>\n",
       "      <td>0.0000</td>\n",
       "      <td>0.0</td>\n",
       "      <td>NaN</td>\n",
       "      <td>NaN</td>\n",
       "      <td>NaN</td>\n",
       "      <td>NaN</td>\n",
       "      <td>NaN</td>\n",
       "      <td>NaN</td>\n",
       "      <td>NaN</td>\n",
       "      <td>NaN</td>\n",
       "      <td>NaN</td>\n",
       "      <td>NaN</td>\n",
       "      <td>NaN</td>\n",
       "      <td>NaN</td>\n",
       "      <td>NaN</td>\n",
       "      <td>NaN</td>\n",
       "      <td>NaN</td>\n",
       "      <td>NaN</td>\n",
       "      <td>NaN</td>\n",
       "      <td>NaN</td>\n",
       "    </tr>\n",
       "    <tr>\n",
       "      <th>3</th>\n",
       "      <td>clhouse/raw/d04/2012/04/d04_text_station_raw_2...</td>\n",
       "      <td>2012-04-06 06:54:17</td>\n",
       "      <td>2012-04-06</td>\n",
       "      <td>401706</td>\n",
       "      <td>0</td>\n",
       "      <td>0.0000</td>\n",
       "      <td>0.0</td>\n",
       "      <td>0</td>\n",
       "      <td>0.0000</td>\n",
       "      <td>0.0</td>\n",
       "      <td>NaN</td>\n",
       "      <td>NaN</td>\n",
       "      <td>NaN</td>\n",
       "      <td>NaN</td>\n",
       "      <td>NaN</td>\n",
       "      <td>NaN</td>\n",
       "      <td>NaN</td>\n",
       "      <td>NaN</td>\n",
       "      <td>NaN</td>\n",
       "      <td>NaN</td>\n",
       "      <td>NaN</td>\n",
       "      <td>NaN</td>\n",
       "      <td>NaN</td>\n",
       "      <td>NaN</td>\n",
       "      <td>NaN</td>\n",
       "      <td>NaN</td>\n",
       "      <td>NaN</td>\n",
       "      <td>NaN</td>\n",
       "    </tr>\n",
       "    <tr>\n",
       "      <th>4</th>\n",
       "      <td>clhouse/raw/d04/2012/04/d04_text_station_raw_2...</td>\n",
       "      <td>2012-04-06 06:54:17</td>\n",
       "      <td>2012-04-06</td>\n",
       "      <td>401710</td>\n",
       "      <td>14</td>\n",
       "      <td>0.0917</td>\n",
       "      <td>78.0</td>\n",
       "      <td>9</td>\n",
       "      <td>0.0583</td>\n",
       "      <td>71.0</td>\n",
       "      <td>6.0</td>\n",
       "      <td>0.0794</td>\n",
       "      <td>65.0</td>\n",
       "      <td>5.0</td>\n",
       "      <td>0.0639</td>\n",
       "      <td>56.0</td>\n",
       "      <td>NaN</td>\n",
       "      <td>NaN</td>\n",
       "      <td>NaN</td>\n",
       "      <td>NaN</td>\n",
       "      <td>NaN</td>\n",
       "      <td>NaN</td>\n",
       "      <td>NaN</td>\n",
       "      <td>NaN</td>\n",
       "      <td>NaN</td>\n",
       "      <td>NaN</td>\n",
       "      <td>NaN</td>\n",
       "      <td>NaN</td>\n",
       "    </tr>\n",
       "    <tr>\n",
       "      <th>5</th>\n",
       "      <td>clhouse/raw/d04/2012/04/d04_text_station_raw_2...</td>\n",
       "      <td>2012-04-06 06:54:17</td>\n",
       "      <td>2012-04-06</td>\n",
       "      <td>401716</td>\n",
       "      <td>9</td>\n",
       "      <td>0.0528</td>\n",
       "      <td>71.0</td>\n",
       "      <td>20</td>\n",
       "      <td>0.1511</td>\n",
       "      <td>60.0</td>\n",
       "      <td>17.0</td>\n",
       "      <td>0.1961</td>\n",
       "      <td>47.0</td>\n",
       "      <td>16.0</td>\n",
       "      <td>0.1950</td>\n",
       "      <td>44.0</td>\n",
       "      <td>NaN</td>\n",
       "      <td>NaN</td>\n",
       "      <td>NaN</td>\n",
       "      <td>NaN</td>\n",
       "      <td>NaN</td>\n",
       "      <td>NaN</td>\n",
       "      <td>NaN</td>\n",
       "      <td>NaN</td>\n",
       "      <td>NaN</td>\n",
       "      <td>NaN</td>\n",
       "      <td>NaN</td>\n",
       "      <td>NaN</td>\n",
       "    </tr>\n",
       "    <tr>\n",
       "      <th>6</th>\n",
       "      <td>clhouse/raw/d04/2012/04/d04_text_station_raw_2...</td>\n",
       "      <td>2012-04-06 06:54:17</td>\n",
       "      <td>2012-04-06</td>\n",
       "      <td>401734</td>\n",
       "      <td>0</td>\n",
       "      <td>1.0000</td>\n",
       "      <td>0.0</td>\n",
       "      <td>0</td>\n",
       "      <td>1.0000</td>\n",
       "      <td>0.0</td>\n",
       "      <td>0.0</td>\n",
       "      <td>0.0000</td>\n",
       "      <td>0.0</td>\n",
       "      <td>0.0</td>\n",
       "      <td>0.0000</td>\n",
       "      <td>0.0</td>\n",
       "      <td>0.0</td>\n",
       "      <td>1.0</td>\n",
       "      <td>0.0</td>\n",
       "      <td>0.0</td>\n",
       "      <td>0.0</td>\n",
       "      <td>0.0</td>\n",
       "      <td>NaN</td>\n",
       "      <td>NaN</td>\n",
       "      <td>NaN</td>\n",
       "      <td>NaN</td>\n",
       "      <td>NaN</td>\n",
       "      <td>NaN</td>\n",
       "    </tr>\n",
       "    <tr>\n",
       "      <th>7</th>\n",
       "      <td>clhouse/raw/d04/2012/04/d04_text_station_raw_2...</td>\n",
       "      <td>2012-04-06 06:54:17</td>\n",
       "      <td>2012-04-06</td>\n",
       "      <td>401742</td>\n",
       "      <td>0</td>\n",
       "      <td>0.0000</td>\n",
       "      <td>0.0</td>\n",
       "      <td>0</td>\n",
       "      <td>0.0000</td>\n",
       "      <td>0.0</td>\n",
       "      <td>0.0</td>\n",
       "      <td>1.0000</td>\n",
       "      <td>0.0</td>\n",
       "      <td>0.0</td>\n",
       "      <td>0.0000</td>\n",
       "      <td>0.0</td>\n",
       "      <td>NaN</td>\n",
       "      <td>NaN</td>\n",
       "      <td>NaN</td>\n",
       "      <td>NaN</td>\n",
       "      <td>NaN</td>\n",
       "      <td>NaN</td>\n",
       "      <td>NaN</td>\n",
       "      <td>NaN</td>\n",
       "      <td>NaN</td>\n",
       "      <td>NaN</td>\n",
       "      <td>NaN</td>\n",
       "      <td>NaN</td>\n",
       "    </tr>\n",
       "    <tr>\n",
       "      <th>8</th>\n",
       "      <td>clhouse/raw/d04/2012/04/d04_text_station_raw_2...</td>\n",
       "      <td>2012-04-06 06:54:17</td>\n",
       "      <td>2012-04-06</td>\n",
       "      <td>401748</td>\n",
       "      <td>0</td>\n",
       "      <td>0.0000</td>\n",
       "      <td>0.0</td>\n",
       "      <td>0</td>\n",
       "      <td>0.0000</td>\n",
       "      <td>0.0</td>\n",
       "      <td>0.0</td>\n",
       "      <td>0.0000</td>\n",
       "      <td>0.0</td>\n",
       "      <td>0.0</td>\n",
       "      <td>0.0000</td>\n",
       "      <td>0.0</td>\n",
       "      <td>NaN</td>\n",
       "      <td>NaN</td>\n",
       "      <td>NaN</td>\n",
       "      <td>NaN</td>\n",
       "      <td>NaN</td>\n",
       "      <td>NaN</td>\n",
       "      <td>NaN</td>\n",
       "      <td>NaN</td>\n",
       "      <td>NaN</td>\n",
       "      <td>NaN</td>\n",
       "      <td>NaN</td>\n",
       "      <td>NaN</td>\n",
       "    </tr>\n",
       "    <tr>\n",
       "      <th>9</th>\n",
       "      <td>clhouse/raw/d04/2012/04/d04_text_station_raw_2...</td>\n",
       "      <td>2012-04-06 06:54:17</td>\n",
       "      <td>2012-04-06</td>\n",
       "      <td>401762</td>\n",
       "      <td>0</td>\n",
       "      <td>0.0000</td>\n",
       "      <td>0.0</td>\n",
       "      <td>0</td>\n",
       "      <td>0.0000</td>\n",
       "      <td>0.0</td>\n",
       "      <td>0.0</td>\n",
       "      <td>0.0000</td>\n",
       "      <td>0.0</td>\n",
       "      <td>0.0</td>\n",
       "      <td>0.0000</td>\n",
       "      <td>0.0</td>\n",
       "      <td>0.0</td>\n",
       "      <td>0.0</td>\n",
       "      <td>0.0</td>\n",
       "      <td>0.0</td>\n",
       "      <td>0.0</td>\n",
       "      <td>0.0</td>\n",
       "      <td>NaN</td>\n",
       "      <td>NaN</td>\n",
       "      <td>NaN</td>\n",
       "      <td>NaN</td>\n",
       "      <td>NaN</td>\n",
       "      <td>NaN</td>\n",
       "    </tr>\n",
       "  </tbody>\n",
       "</table>\n",
       "</div>"
      ],
      "text/plain": [
       "                                            FILENAME    SAMPLE_TIMESTAMP  \\\n",
       "0  clhouse/raw/d04/2012/04/d04_text_station_raw_2... 2012-04-06 06:54:17   \n",
       "1  clhouse/raw/d04/2012/04/d04_text_station_raw_2... 2012-04-06 06:54:17   \n",
       "2  clhouse/raw/d04/2012/04/d04_text_station_raw_2... 2012-04-06 06:54:17   \n",
       "3  clhouse/raw/d04/2012/04/d04_text_station_raw_2... 2012-04-06 06:54:17   \n",
       "4  clhouse/raw/d04/2012/04/d04_text_station_raw_2... 2012-04-06 06:54:17   \n",
       "5  clhouse/raw/d04/2012/04/d04_text_station_raw_2... 2012-04-06 06:54:17   \n",
       "6  clhouse/raw/d04/2012/04/d04_text_station_raw_2... 2012-04-06 06:54:17   \n",
       "7  clhouse/raw/d04/2012/04/d04_text_station_raw_2... 2012-04-06 06:54:17   \n",
       "8  clhouse/raw/d04/2012/04/d04_text_station_raw_2... 2012-04-06 06:54:17   \n",
       "9  clhouse/raw/d04/2012/04/d04_text_station_raw_2... 2012-04-06 06:54:17   \n",
       "\n",
       "  SAMPLE_DATE      ID  FLOW_1  OCCUPANCY_1  SPEED_1  FLOW_2  OCCUPANCY_2  \\\n",
       "0  2012-04-06  401702       7       0.0361     71.0       4       0.0317   \n",
       "1  2012-04-06  401703       1       0.0067     65.0       3       0.0172   \n",
       "2  2012-04-06  401704       0       0.0000      0.0       0       0.0000   \n",
       "3  2012-04-06  401706       0       0.0000      0.0       0       0.0000   \n",
       "4  2012-04-06  401710      14       0.0917     78.0       9       0.0583   \n",
       "5  2012-04-06  401716       9       0.0528     71.0      20       0.1511   \n",
       "6  2012-04-06  401734       0       1.0000      0.0       0       1.0000   \n",
       "7  2012-04-06  401742       0       0.0000      0.0       0       0.0000   \n",
       "8  2012-04-06  401748       0       0.0000      0.0       0       0.0000   \n",
       "9  2012-04-06  401762       0       0.0000      0.0       0       0.0000   \n",
       "\n",
       "   SPEED_2  FLOW_3  OCCUPANCY_3  SPEED_3  FLOW_4  OCCUPANCY_4  SPEED_4  \\\n",
       "0     65.0     NaN          NaN      NaN     NaN          NaN      NaN   \n",
       "1     71.0     NaN          NaN      NaN     NaN          NaN      NaN   \n",
       "2      0.0     NaN          NaN      NaN     NaN          NaN      NaN   \n",
       "3      0.0     NaN          NaN      NaN     NaN          NaN      NaN   \n",
       "4     71.0     6.0       0.0794     65.0     5.0       0.0639     56.0   \n",
       "5     60.0    17.0       0.1961     47.0    16.0       0.1950     44.0   \n",
       "6      0.0     0.0       0.0000      0.0     0.0       0.0000      0.0   \n",
       "7      0.0     0.0       1.0000      0.0     0.0       0.0000      0.0   \n",
       "8      0.0     0.0       0.0000      0.0     0.0       0.0000      0.0   \n",
       "9      0.0     0.0       0.0000      0.0     0.0       0.0000      0.0   \n",
       "\n",
       "   FLOW_5  OCCUPANCY_5  SPEED_5  FLOW_6  OCCUPANCY_6  SPEED_6  FLOW_7  \\\n",
       "0     NaN          NaN      NaN     NaN          NaN      NaN     NaN   \n",
       "1     NaN          NaN      NaN     NaN          NaN      NaN     NaN   \n",
       "2     NaN          NaN      NaN     NaN          NaN      NaN     NaN   \n",
       "3     NaN          NaN      NaN     NaN          NaN      NaN     NaN   \n",
       "4     NaN          NaN      NaN     NaN          NaN      NaN     NaN   \n",
       "5     NaN          NaN      NaN     NaN          NaN      NaN     NaN   \n",
       "6     0.0          1.0      0.0     0.0          0.0      0.0     NaN   \n",
       "7     NaN          NaN      NaN     NaN          NaN      NaN     NaN   \n",
       "8     NaN          NaN      NaN     NaN          NaN      NaN     NaN   \n",
       "9     0.0          0.0      0.0     0.0          0.0      0.0     NaN   \n",
       "\n",
       "   OCCUPANCY_7  SPEED_7  FLOW_8  OCCUPANCY_8  SPEED_8  \n",
       "0          NaN      NaN     NaN          NaN      NaN  \n",
       "1          NaN      NaN     NaN          NaN      NaN  \n",
       "2          NaN      NaN     NaN          NaN      NaN  \n",
       "3          NaN      NaN     NaN          NaN      NaN  \n",
       "4          NaN      NaN     NaN          NaN      NaN  \n",
       "5          NaN      NaN     NaN          NaN      NaN  \n",
       "6          NaN      NaN     NaN          NaN      NaN  \n",
       "7          NaN      NaN     NaN          NaN      NaN  \n",
       "8          NaN      NaN     NaN          NaN      NaN  \n",
       "9          NaN      NaN     NaN          NaN      NaN  "
      ]
     },
     "execution_count": 6,
     "metadata": {},
     "output_type": "execute_result"
    }
   ],
   "source": [
    "station_raw_df"
   ]
  },
  {
   "cell_type": "markdown",
   "id": "27d7c90b-c186-4252-924d-48f7c83346e3",
   "metadata": {},
   "source": [
    "### Question 1. Are all the data available for the most recent year, 2023?\n",
    "\n",
    "Case Study 1: Look at District 5 from the [District Map and County Chart](https://cwwp2.dot.ca.gov/documentation/district-map-county-chart.htm) data during August 2023.\n",
    "\n",
    "1. Filter the station metadata file to look at `DISTRICT` values of 5.\n",
    "2. Strip away all old versions of the data by selecting the most recent unique ID.\n",
    "3. Filter raw data file to look at August 2023 and the selected IDs from Step 2.\n",
    "4. Merge the raw and metadata files on the keyword `ID`.\n",
    "5. Look at the keyword `SAMPLE_TIMESTAMP` in the `STATION_RAW` table.\n",
    "6. Plot `SAMPLE_TIMESTAMP` for one highway for one day."
   ]
  },
  {
   "cell_type": "markdown",
   "id": "6d788215-6494-46f7-abb3-a8f0532f52b6",
   "metadata": {},
   "source": [
    "##### 1. Filter the station metadata file to look at `DISTRICT` values of 5."
   ]
  },
  {
   "cell_type": "code",
   "execution_count": 7,
   "id": "9e2cc63a-8d25-48c3-8414-1a005c1210d9",
   "metadata": {},
   "outputs": [],
   "source": [
    "district_5_filter = station_metadata.filter(station_metadata[\"DISTRICT\"] == \"5\")"
   ]
  },
  {
   "cell_type": "code",
   "execution_count": 8,
   "id": "9b4886ed-2c65-47c6-924f-a2c53d13e7b9",
   "metadata": {},
   "outputs": [],
   "source": [
    "district_5_df = district_5_filter.execute()"
   ]
  },
  {
   "cell_type": "markdown",
   "id": "7a3bde3e-e44f-4940-af79-58f4346f2aba",
   "metadata": {},
   "source": [
    "##### 2. Strip away all old versions of the data by selecting the most recent unique ID."
   ]
  },
  {
   "cell_type": "markdown",
   "id": "2f244f6d-e059-4946-bf50-0d0e6e464a55",
   "metadata": {},
   "source": [
    "Identify the number of unique values of ID in District 5."
   ]
  },
  {
   "cell_type": "code",
   "execution_count": 9,
   "id": "33c6ba80-74a5-4265-a02c-3e30ae0c767e",
   "metadata": {},
   "outputs": [
    {
     "name": "stdout",
     "output_type": "stream",
     "text": [
      "There are 706 unique values of ID in District 5.\n"
     ]
    }
   ],
   "source": [
    "print('There are {} unique values of ID in District 5.'.format(district_5_df['ID'].nunique()))"
   ]
  },
  {
   "cell_type": "markdown",
   "id": "f86cc7e8-c597-45c0-9d80-dbe9160c6bd6",
   "metadata": {},
   "source": [
    "Construct a new column called `DATA_VERSION`."
   ]
  },
  {
   "cell_type": "code",
   "execution_count": 22,
   "id": "6a93b147-5120-4d67-bfb8-be40f9a1f09d",
   "metadata": {},
   "outputs": [],
   "source": [
    "district_5_df['DATA_VERSION'] = np.NaN"
   ]
  },
  {
   "cell_type": "markdown",
   "id": "976182bd-1581-4035-a15e-fdb7b0570ca8",
   "metadata": {},
   "source": [
    "Extract the date from the `FILENAME` keyword. Populate these dates in the `DATA_VERSION` keyword."
   ]
  },
  {
   "cell_type": "code",
   "execution_count": 34,
   "id": "6ab6df08-e5dc-4860-8a39-8e5dd0d40304",
   "metadata": {},
   "outputs": [],
   "source": [
    "for i in range(len(district_5_df)):\n",
    "    data_version = dt_obj.strptime(district_5_df['FILENAME'][0][39:49], '%Y_%m_%d')\n",
    "    district_5_df['DATA_VERSION'][i] = data_version"
   ]
  },
  {
   "cell_type": "markdown",
   "id": "c7ce6af5-cd47-4a6d-913b-b9627211482d",
   "metadata": {},
   "source": [
    "Select the most recent `DATA_VERSION` for each unique ID. Drop the rest."
   ]
  },
  {
   "cell_type": "code",
   "execution_count": 24,
   "id": "4eaaac42-37bd-4125-965e-df0fd21f56d9",
   "metadata": {},
   "outputs": [],
   "source": [
    "unique_IDs = district_5_df['ID'].value_counts().index.to_list()"
   ]
  },
  {
   "cell_type": "code",
   "execution_count": 25,
   "id": "1a9069cf-62dd-4931-95c1-45329e7870d4",
   "metadata": {},
   "outputs": [],
   "source": [
    "drop_these_rows = []\n",
    "for i in range(len(unique_IDs)):\n",
    "    ID_subset = district_5_df[district_5_df['ID'] == unique_IDs[i]]\n",
    "    index_for_max_value = ID_subset['DATA_VERSION'].idxmax()\n",
    "    indices_for_rows_to_drop = ID_subset.drop(index_for_max_value).index.to_list()\n",
    "    drop_these_rows.append(indices_for_rows_to_drop)"
   ]
  },
  {
   "cell_type": "code",
   "execution_count": 26,
   "id": "15bd8af6-0f87-431f-8e66-3ccc1750baa4",
   "metadata": {},
   "outputs": [],
   "source": [
    "drop_these_rows_flattened = list(itertools.chain.from_iterable(drop_these_rows))"
   ]
  },
  {
   "cell_type": "code",
   "execution_count": 27,
   "id": "71b96318-cbd8-40ab-9a93-83c18f32ca00",
   "metadata": {},
   "outputs": [],
   "source": [
    "district_5_recent_version_df = district_5_df.drop(drop_these_rows_flattened).reset_index(drop=True)"
   ]
  },
  {
   "cell_type": "markdown",
   "id": "877fcb09-a7b3-4aa3-b78a-0b630328270e",
   "metadata": {},
   "source": [
    "##### 3. Merge the raw and metadata files on the keyword `ID`."
   ]
  },
  {
   "cell_type": "code",
   "execution_count": 28,
   "id": "29b608c0-c621-4aea-8992-76ea6acd56c9",
   "metadata": {},
   "outputs": [
    {
     "name": "stdout",
     "output_type": "stream",
     "text": [
      "500004\n"
     ]
    }
   ],
   "source": [
    "# Randomly select an ID\n",
    "ID_selection = district_5_recent_version_df['ID'][2]\n",
    "print(ID_selection)"
   ]
  },
  {
   "cell_type": "code",
   "execution_count": null,
   "id": "b53dcdb7-5c8a-4a64-ae22-fc8cfce7870f",
   "metadata": {},
   "outputs": [],
   "source": [
    "# Get the date range for this ID\n",
    "date_and_ID_first_sample_date = station_raw.select('SAMPLE_DATE', 'ID').filter(station_raw[\"ID\"] == ID_selection).order_by('SAMPLE_DATE')\n",
    "date_and_ID_last_sample_date = station_raw.filter(station_raw[\"ID\"] == ID_selection).select('SAMPLE_DATE', 'ID').order_by(ibis.desc('SAMPLE_DATE'))"
   ]
  },
  {
   "cell_type": "code",
   "execution_count": null,
   "id": "6da68da4-ad4d-4a27-90b8-7ba29a86de12",
   "metadata": {},
   "outputs": [],
   "source": [
    "date_and_ID_last_sample_date"
   ]
  },
  {
   "cell_type": "code",
   "execution_count": null,
   "id": "048d6b48-bf0c-452d-b4ef-7541b43c52ae",
   "metadata": {},
   "outputs": [],
   "source": [
    "first_sample_date = date_and_ID_first_sample_date.execute(limit=1)\n",
    "last_sample_date = date_and_ID_last_sample_date.execute(limit=1)"
   ]
  },
  {
   "cell_type": "code",
   "execution_count": null,
   "id": "1d55d1d8-c98e-490f-a183-0bff6f564cf3",
   "metadata": {},
   "outputs": [],
   "source": [
    "print(first_sample_date)"
   ]
  },
  {
   "cell_type": "code",
   "execution_count": null,
   "id": "58ce6330-d6da-4128-b5bb-906fcc1e4e95",
   "metadata": {},
   "outputs": [],
   "source": [
    "print(last_sample_date)"
   ]
  },
  {
   "cell_type": "markdown",
   "id": "5d10f689-77a6-474e-a206-0fb0cd4a7b51",
   "metadata": {},
   "source": [
    "This ID only looks at data from 2012, so we can drop it. Go through all the IDs and select the ones with data in 2023."
   ]
  },
  {
   "cell_type": "code",
   "execution_count": 29,
   "id": "9772e829-d913-41cd-9f82-40e11d447847",
   "metadata": {},
   "outputs": [],
   "source": [
    "date_selection_start = dt_obj(2023, 1, 1)\n",
    "date_selection_end = dt_obj(2023, 12, 31)"
   ]
  },
  {
   "cell_type": "code",
   "execution_count": 30,
   "id": "eb99081c-6cb8-4c5a-b9f2-c6637d707dfb",
   "metadata": {},
   "outputs": [],
   "source": [
    "ID_selection = district_5_recent_version_df['ID'][0]"
   ]
  },
  {
   "cell_type": "code",
   "execution_count": 31,
   "id": "5c0a1013-03ee-41fc-93a8-0193e9004bb5",
   "metadata": {},
   "outputs": [],
   "source": [
    "date_and_ID_filter = station_raw.filter(\n",
    "    (station_raw[\"SAMPLE_DATE\"] >= date_selection_start) & (station_raw[\"SAMPLE_DATE\"] < date_selection_end)).filter(\n",
    "    station_raw[\"ID\"] == ID_selection)"
   ]
  },
  {
   "cell_type": "code",
   "execution_count": 32,
   "id": "2a9ed30b-65c2-4602-b186-1d94f6e8ad2c",
   "metadata": {},
   "outputs": [
    {
     "data": {
      "text/html": [
       "<pre style=\"white-space:pre;overflow-x:auto;line-height:normal;font-family:Menlo,'DejaVu Sans Mono',consolas,'Courier New',monospace\">r0 := DatabaseTable: STATION_RAW\n",
       "  FILENAME         string\n",
       "  SAMPLE_TIMESTAMP timestamp\n",
       "  SAMPLE_DATE      date\n",
       "  ID               string\n",
       "  FLOW_1           int64\n",
       "  OCCUPANCY_1      float64\n",
       "  SPEED_1          float64\n",
       "  FLOW_2           int64\n",
       "  OCCUPANCY_2      float64\n",
       "  SPEED_2          float64\n",
       "  FLOW_3           int64\n",
       "  OCCUPANCY_3      float64\n",
       "  SPEED_3          float64\n",
       "  FLOW_4           int64\n",
       "  OCCUPANCY_4      float64\n",
       "  SPEED_4          float64\n",
       "  FLOW_5           int64\n",
       "  OCCUPANCY_5      float64\n",
       "  SPEED_5          float64\n",
       "  FLOW_6           int64\n",
       "  OCCUPANCY_6      float64\n",
       "  SPEED_6          float64\n",
       "  FLOW_7           int64\n",
       "  OCCUPANCY_7      float64\n",
       "  SPEED_7          float64\n",
       "  FLOW_8           int64\n",
       "  OCCUPANCY_8      float64\n",
       "  SPEED_8          float64\n",
       "\n",
       "Selection[r0]\n",
       "  predicates:\n",
       "    r0.SAMPLE_DATE &gt;= datetime.datetime(2023, 1, 1, 0, 0)\n",
       "    r0.SAMPLE_DATE &lt; datetime.datetime(2023, 12, 31, 0, 0)\n",
       "    r0.ID == '500001'\n",
       "</pre>\n"
      ],
      "text/plain": [
       "r0 := DatabaseTable: STATION_RAW\n",
       "  FILENAME         string\n",
       "  SAMPLE_TIMESTAMP timestamp\n",
       "  SAMPLE_DATE      date\n",
       "  ID               string\n",
       "  FLOW_1           int64\n",
       "  OCCUPANCY_1      float64\n",
       "  SPEED_1          float64\n",
       "  FLOW_2           int64\n",
       "  OCCUPANCY_2      float64\n",
       "  SPEED_2          float64\n",
       "  FLOW_3           int64\n",
       "  OCCUPANCY_3      float64\n",
       "  SPEED_3          float64\n",
       "  FLOW_4           int64\n",
       "  OCCUPANCY_4      float64\n",
       "  SPEED_4          float64\n",
       "  FLOW_5           int64\n",
       "  OCCUPANCY_5      float64\n",
       "  SPEED_5          float64\n",
       "  FLOW_6           int64\n",
       "  OCCUPANCY_6      float64\n",
       "  SPEED_6          float64\n",
       "  FLOW_7           int64\n",
       "  OCCUPANCY_7      float64\n",
       "  SPEED_7          float64\n",
       "  FLOW_8           int64\n",
       "  OCCUPANCY_8      float64\n",
       "  SPEED_8          float64\n",
       "\n",
       "Selection[r0]\n",
       "  predicates:\n",
       "    r0.SAMPLE_DATE >= datetime.datetime(2023, 1, 1, 0, 0)\n",
       "    r0.SAMPLE_DATE < datetime.datetime(2023, 12, 31, 0, 0)\n",
       "    r0.ID == '500001'"
      ]
     },
     "execution_count": 32,
     "metadata": {},
     "output_type": "execute_result"
    }
   ],
   "source": [
    "date_and_ID_filter"
   ]
  },
  {
   "cell_type": "code",
   "execution_count": null,
   "id": "8db8c4ff-e0a0-49a7-a9ab-eb0eec5fc005",
   "metadata": {},
   "outputs": [],
   "source": []
  }
 ],
 "metadata": {
  "kernelspec": {
   "display_name": "Python 3 (ipykernel)",
   "language": "python",
   "name": "python3"
  },
  "language_info": {
   "codemirror_mode": {
    "name": "ipython",
    "version": 3
   },
   "file_extension": ".py",
   "mimetype": "text/x-python",
   "name": "python",
   "nbconvert_exporter": "python",
   "pygments_lexer": "ipython3",
   "version": "3.10.12"
  }
 },
 "nbformat": 4,
 "nbformat_minor": 5
}
