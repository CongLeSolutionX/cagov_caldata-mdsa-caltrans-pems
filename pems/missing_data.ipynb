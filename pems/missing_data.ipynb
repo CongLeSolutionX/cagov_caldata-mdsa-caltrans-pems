{
 "cells": [
  {
   "cell_type": "markdown",
   "id": "fc154fed-0427-4d7e-8018-30bd53f9038a",
   "metadata": {},
   "source": [
    "# Identifying Missing Data in the Caltrans/PeMS Dataset\n",
    "\n",
    "The California Department of Transportation (Caltrans) collects data that describes the flow of traffic on California freeways. Caltrans stores these data in a database called PeMS. The data describe the number of counts per unit time meaured by roughly 45,000 sensors on a 30-second cadence. The type of sensor varies considerably, e.g. radar and magnetometers (see Chapter 1 of the [Introduction to PeMS User Guide](https://pems.dot.ca.gov/Papers/PeMS_Intro_User_Guide_v6.pdf)). \n",
    "\n",
    "In some cases, these data are missing. Faulty or broken sensors do not collect data. Or sensor data is not wirelessly transmitted back to PeMS. In addition, Caltrans performs some calculations to convert these raw sensor data into physical observables such as speed. These calculations include some assumptions such as the length of the vehicle, or $g$. Based on the quality of the assumption, these data can include errors.\n",
    "\n",
    "In this notebook, we will take a look at the nature of the missing data. Some questions to ask:\n",
    "1. Are all the data available for District 5 from the District Map and County Chart during 2023?\n",
    "2. If data are missing, do they occur in any spatial or temporal clusters?\n",
    "3. Are there any outliers or unexpected values in the data?\n",
    "4. Are all the data available for all the available districts in recent decade, 2013-2023? And again, is there any pattern to the missing data? Are there any odd values?"
   ]
  },
  {
   "cell_type": "markdown",
   "id": "6ee1f7ef-5c05-4177-b9fd-f54643309be0",
   "metadata": {
    "tags": []
   },
   "source": [
    "### Setup"
   ]
  },
  {
   "cell_type": "code",
   "execution_count": 195,
   "id": "b0bf5677-23e9-44bc-adae-cd5c10acebf8",
   "metadata": {
    "tags": []
   },
   "outputs": [],
   "source": [
    "import ibis\n",
    "import os\n",
    "import itertools\n",
    "\n",
    "import numpy as np\n",
    "import pandas as pd\n",
    "import seaborn as sns\n",
    "import ibis.selectors as s\n",
    "import matplotlib.pyplot as plt\n",
    "import matplotlib.dates as mdates\n",
    "\n",
    "from dotenv import load_dotenv\n",
    "from functools import reduce\n",
    "from datetime import datetime as dt_obj\n",
    "from datetime import date\n",
    "from datetime import timedelta\n",
    "\n",
    "%matplotlib inline\n",
    "%config InlineBackend.figure_format = 'retina'\n",
    "\n",
    "pd.set_option('display.max_columns', 200)\n",
    "pd.set_option('display.max_rows', 3000)"
   ]
  },
  {
   "cell_type": "code",
   "execution_count": 2,
   "id": "a0a14871-35fe-4974-955d-80e41f2af34e",
   "metadata": {},
   "outputs": [],
   "source": [
    "load_dotenv(override=True)\n",
    "USERNAME = os.getenv('USERNAME')\n",
    "PASSWORD = os.getenv('PASSWORD')"
   ]
  },
  {
   "cell_type": "code",
   "execution_count": 3,
   "id": "d7990f64-92fa-4950-b6f0-8eae6013cb58",
   "metadata": {},
   "outputs": [],
   "source": [
    "con = ibis.snowflake.connect(\n",
    "    user=USERNAME,\n",
    "    password=PASSWORD,\n",
    "    role='TRANSFORMER_DEV',\n",
    "    warehouse='TRANSFORMING_XS_DEV',\n",
    "    account=\"VSB79059-DSE_CALTRANS_PEMS\",\n",
    "    database=\"RAW_PRD/CLEARINGHOUSE\",\n",
    ")"
   ]
  },
  {
   "cell_type": "code",
   "execution_count": 5,
   "id": "151a33e2-26cc-4ba5-a25f-cadf50e4b83a",
   "metadata": {},
   "outputs": [],
   "source": [
    "station_metadata = con.table(\"STATION_META\");\n",
    "station_raw = con.table(\"STATION_RAW\");\n",
    "#station_status = con.table(\"STATION_STATUS\");"
   ]
  },
  {
   "cell_type": "code",
   "execution_count": 6,
   "id": "3956723f-87a0-4f0d-a172-c6059c61d6a9",
   "metadata": {},
   "outputs": [],
   "source": [
    "station_metadata_df = station_metadata.execute(limit=10)\n",
    "station_raw_df = station_raw.execute(limit=10)\n",
    "#station_status_df = station_status.execute(limit=10)"
   ]
  },
  {
   "cell_type": "code",
   "execution_count": 7,
   "id": "7461a7d8-e4c8-49ef-bb42-01cc1280871b",
   "metadata": {},
   "outputs": [
    {
     "data": {
      "text/html": [
       "<div>\n",
       "<style scoped>\n",
       "    .dataframe tbody tr th:only-of-type {\n",
       "        vertical-align: middle;\n",
       "    }\n",
       "\n",
       "    .dataframe tbody tr th {\n",
       "        vertical-align: top;\n",
       "    }\n",
       "\n",
       "    .dataframe thead th {\n",
       "        text-align: right;\n",
       "    }\n",
       "</style>\n",
       "<table border=\"1\" class=\"dataframe\">\n",
       "  <thead>\n",
       "    <tr style=\"text-align: right;\">\n",
       "      <th></th>\n",
       "      <th>FILENAME</th>\n",
       "      <th>ID</th>\n",
       "      <th>FWY</th>\n",
       "      <th>DIR</th>\n",
       "      <th>DISTRICT</th>\n",
       "      <th>COUNTY</th>\n",
       "      <th>CITY</th>\n",
       "      <th>STATE_PM</th>\n",
       "      <th>ABS_PM</th>\n",
       "      <th>LATITUDE</th>\n",
       "      <th>LONGITUDE</th>\n",
       "      <th>LENGTH</th>\n",
       "      <th>TYPE</th>\n",
       "      <th>LANES</th>\n",
       "      <th>NAME</th>\n",
       "      <th>USER_ID_1</th>\n",
       "      <th>USER_ID_2</th>\n",
       "      <th>USER_ID_3</th>\n",
       "      <th>USER_ID_4</th>\n",
       "    </tr>\n",
       "  </thead>\n",
       "  <tbody>\n",
       "    <tr>\n",
       "      <th>0</th>\n",
       "      <td>clhouse/meta/d08/2024/01/d08_text_meta_2024_01...</td>\n",
       "      <td>801230</td>\n",
       "      <td>10</td>\n",
       "      <td>W</td>\n",
       "      <td>8</td>\n",
       "      <td>71</td>\n",
       "      <td>48788</td>\n",
       "      <td>.591</td>\n",
       "      <td>47.356</td>\n",
       "      <td>34.082004</td>\n",
       "      <td>-117.699964</td>\n",
       "      <td>0.845</td>\n",
       "      <td>ML</td>\n",
       "      <td>4</td>\n",
       "      <td>MONTE VISTA AVE</td>\n",
       "      <td>1</td>\n",
       "      <td>None</td>\n",
       "      <td>None</td>\n",
       "      <td>None</td>\n",
       "    </tr>\n",
       "    <tr>\n",
       "      <th>1</th>\n",
       "      <td>clhouse/meta/d08/2024/01/d08_text_meta_2024_01...</td>\n",
       "      <td>801231</td>\n",
       "      <td>10</td>\n",
       "      <td>W</td>\n",
       "      <td>8</td>\n",
       "      <td>71</td>\n",
       "      <td>48788</td>\n",
       "      <td>.591</td>\n",
       "      <td>47.356</td>\n",
       "      <td>34.082004</td>\n",
       "      <td>-117.699964</td>\n",
       "      <td>NaN</td>\n",
       "      <td>OR</td>\n",
       "      <td>2</td>\n",
       "      <td>MONTE VISTA AVE</td>\n",
       "      <td>1</td>\n",
       "      <td>None</td>\n",
       "      <td>None</td>\n",
       "      <td>None</td>\n",
       "    </tr>\n",
       "    <tr>\n",
       "      <th>2</th>\n",
       "      <td>clhouse/meta/d08/2024/01/d08_text_meta_2024_01...</td>\n",
       "      <td>801232</td>\n",
       "      <td>10</td>\n",
       "      <td>E</td>\n",
       "      <td>8</td>\n",
       "      <td>71</td>\n",
       "      <td>48788</td>\n",
       "      <td>.721</td>\n",
       "      <td>47.486</td>\n",
       "      <td>34.082149</td>\n",
       "      <td>-117.697705</td>\n",
       "      <td>0.996</td>\n",
       "      <td>ML</td>\n",
       "      <td>4</td>\n",
       "      <td>MONTE VISTA AVE</td>\n",
       "      <td>1</td>\n",
       "      <td>None</td>\n",
       "      <td>None</td>\n",
       "      <td>None</td>\n",
       "    </tr>\n",
       "    <tr>\n",
       "      <th>3</th>\n",
       "      <td>clhouse/meta/d08/2024/01/d08_text_meta_2024_01...</td>\n",
       "      <td>801233</td>\n",
       "      <td>10</td>\n",
       "      <td>E</td>\n",
       "      <td>8</td>\n",
       "      <td>71</td>\n",
       "      <td>48788</td>\n",
       "      <td>.721</td>\n",
       "      <td>47.486</td>\n",
       "      <td>34.082149</td>\n",
       "      <td>-117.697705</td>\n",
       "      <td>NaN</td>\n",
       "      <td>OR</td>\n",
       "      <td>2</td>\n",
       "      <td>MONTE VISTA AVE</td>\n",
       "      <td>1</td>\n",
       "      <td>None</td>\n",
       "      <td>None</td>\n",
       "      <td>None</td>\n",
       "    </tr>\n",
       "    <tr>\n",
       "      <th>4</th>\n",
       "      <td>clhouse/meta/d08/2024/01/d08_text_meta_2024_01...</td>\n",
       "      <td>801234</td>\n",
       "      <td>10</td>\n",
       "      <td>W</td>\n",
       "      <td>8</td>\n",
       "      <td>71</td>\n",
       "      <td>48788</td>\n",
       "      <td>1.168</td>\n",
       "      <td>47.933</td>\n",
       "      <td>34.085065</td>\n",
       "      <td>-117.690768</td>\n",
       "      <td>0.660</td>\n",
       "      <td>ML</td>\n",
       "      <td>4</td>\n",
       "      <td>CENTRAL AVE</td>\n",
       "      <td>1</td>\n",
       "      <td>None</td>\n",
       "      <td>None</td>\n",
       "      <td>None</td>\n",
       "    </tr>\n",
       "    <tr>\n",
       "      <th>5</th>\n",
       "      <td>clhouse/meta/d08/2024/01/d08_text_meta_2024_01...</td>\n",
       "      <td>801236</td>\n",
       "      <td>10</td>\n",
       "      <td>W</td>\n",
       "      <td>8</td>\n",
       "      <td>71</td>\n",
       "      <td>48788</td>\n",
       "      <td>1.168</td>\n",
       "      <td>47.933</td>\n",
       "      <td>34.085065</td>\n",
       "      <td>-117.690768</td>\n",
       "      <td>NaN</td>\n",
       "      <td>OR</td>\n",
       "      <td>2</td>\n",
       "      <td>CENTRAL AVE</td>\n",
       "      <td>1</td>\n",
       "      <td>None</td>\n",
       "      <td>None</td>\n",
       "      <td>None</td>\n",
       "    </tr>\n",
       "    <tr>\n",
       "      <th>6</th>\n",
       "      <td>clhouse/meta/d08/2024/01/d08_text_meta_2024_01...</td>\n",
       "      <td>801237</td>\n",
       "      <td>10</td>\n",
       "      <td>E</td>\n",
       "      <td>8</td>\n",
       "      <td>71</td>\n",
       "      <td>48788</td>\n",
       "      <td>1.342</td>\n",
       "      <td>48.107</td>\n",
       "      <td>34.086058</td>\n",
       "      <td>-117.687970</td>\n",
       "      <td>0.595</td>\n",
       "      <td>ML</td>\n",
       "      <td>4</td>\n",
       "      <td>CENTRAL AVE</td>\n",
       "      <td>1</td>\n",
       "      <td>None</td>\n",
       "      <td>None</td>\n",
       "      <td>None</td>\n",
       "    </tr>\n",
       "    <tr>\n",
       "      <th>7</th>\n",
       "      <td>clhouse/meta/d08/2024/01/d08_text_meta_2024_01...</td>\n",
       "      <td>801238</td>\n",
       "      <td>10</td>\n",
       "      <td>E</td>\n",
       "      <td>8</td>\n",
       "      <td>71</td>\n",
       "      <td>48788</td>\n",
       "      <td>1.342</td>\n",
       "      <td>48.107</td>\n",
       "      <td>34.086058</td>\n",
       "      <td>-117.687970</td>\n",
       "      <td>NaN</td>\n",
       "      <td>OR</td>\n",
       "      <td>2</td>\n",
       "      <td>CENTRAL AVE</td>\n",
       "      <td>1</td>\n",
       "      <td>None</td>\n",
       "      <td>None</td>\n",
       "      <td>None</td>\n",
       "    </tr>\n",
       "    <tr>\n",
       "      <th>8</th>\n",
       "      <td>clhouse/meta/d08/2024/01/d08_text_meta_2024_01...</td>\n",
       "      <td>801239</td>\n",
       "      <td>10</td>\n",
       "      <td>E</td>\n",
       "      <td>8</td>\n",
       "      <td>71</td>\n",
       "      <td>81344</td>\n",
       "      <td>1.912</td>\n",
       "      <td>48.677</td>\n",
       "      <td>34.087192</td>\n",
       "      <td>-117.678250</td>\n",
       "      <td>0.523</td>\n",
       "      <td>ML</td>\n",
       "      <td>4</td>\n",
       "      <td>BENSON AVE</td>\n",
       "      <td>1</td>\n",
       "      <td>None</td>\n",
       "      <td>None</td>\n",
       "      <td>None</td>\n",
       "    </tr>\n",
       "    <tr>\n",
       "      <th>9</th>\n",
       "      <td>clhouse/meta/d08/2024/01/d08_text_meta_2024_01...</td>\n",
       "      <td>801240</td>\n",
       "      <td>10</td>\n",
       "      <td>W</td>\n",
       "      <td>8</td>\n",
       "      <td>71</td>\n",
       "      <td>81344</td>\n",
       "      <td>1.912</td>\n",
       "      <td>48.677</td>\n",
       "      <td>34.087372</td>\n",
       "      <td>-117.678335</td>\n",
       "      <td>0.544</td>\n",
       "      <td>ML</td>\n",
       "      <td>4</td>\n",
       "      <td>BENSON AVE</td>\n",
       "      <td>1</td>\n",
       "      <td>None</td>\n",
       "      <td>None</td>\n",
       "      <td>None</td>\n",
       "    </tr>\n",
       "  </tbody>\n",
       "</table>\n",
       "</div>"
      ],
      "text/plain": [
       "                                            FILENAME      ID FWY DIR DISTRICT  \\\n",
       "0  clhouse/meta/d08/2024/01/d08_text_meta_2024_01...  801230  10   W        8   \n",
       "1  clhouse/meta/d08/2024/01/d08_text_meta_2024_01...  801231  10   W        8   \n",
       "2  clhouse/meta/d08/2024/01/d08_text_meta_2024_01...  801232  10   E        8   \n",
       "3  clhouse/meta/d08/2024/01/d08_text_meta_2024_01...  801233  10   E        8   \n",
       "4  clhouse/meta/d08/2024/01/d08_text_meta_2024_01...  801234  10   W        8   \n",
       "5  clhouse/meta/d08/2024/01/d08_text_meta_2024_01...  801236  10   W        8   \n",
       "6  clhouse/meta/d08/2024/01/d08_text_meta_2024_01...  801237  10   E        8   \n",
       "7  clhouse/meta/d08/2024/01/d08_text_meta_2024_01...  801238  10   E        8   \n",
       "8  clhouse/meta/d08/2024/01/d08_text_meta_2024_01...  801239  10   E        8   \n",
       "9  clhouse/meta/d08/2024/01/d08_text_meta_2024_01...  801240  10   W        8   \n",
       "\n",
       "  COUNTY   CITY STATE_PM  ABS_PM   LATITUDE   LONGITUDE  LENGTH TYPE  LANES  \\\n",
       "0     71  48788     .591  47.356  34.082004 -117.699964   0.845   ML      4   \n",
       "1     71  48788     .591  47.356  34.082004 -117.699964     NaN   OR      2   \n",
       "2     71  48788     .721  47.486  34.082149 -117.697705   0.996   ML      4   \n",
       "3     71  48788     .721  47.486  34.082149 -117.697705     NaN   OR      2   \n",
       "4     71  48788    1.168  47.933  34.085065 -117.690768   0.660   ML      4   \n",
       "5     71  48788    1.168  47.933  34.085065 -117.690768     NaN   OR      2   \n",
       "6     71  48788    1.342  48.107  34.086058 -117.687970   0.595   ML      4   \n",
       "7     71  48788    1.342  48.107  34.086058 -117.687970     NaN   OR      2   \n",
       "8     71  81344    1.912  48.677  34.087192 -117.678250   0.523   ML      4   \n",
       "9     71  81344    1.912  48.677  34.087372 -117.678335   0.544   ML      4   \n",
       "\n",
       "              NAME USER_ID_1 USER_ID_2 USER_ID_3 USER_ID_4  \n",
       "0  MONTE VISTA AVE         1      None      None      None  \n",
       "1  MONTE VISTA AVE         1      None      None      None  \n",
       "2  MONTE VISTA AVE         1      None      None      None  \n",
       "3  MONTE VISTA AVE         1      None      None      None  \n",
       "4      CENTRAL AVE         1      None      None      None  \n",
       "5      CENTRAL AVE         1      None      None      None  \n",
       "6      CENTRAL AVE         1      None      None      None  \n",
       "7      CENTRAL AVE         1      None      None      None  \n",
       "8       BENSON AVE         1      None      None      None  \n",
       "9       BENSON AVE         1      None      None      None  "
      ]
     },
     "execution_count": 7,
     "metadata": {},
     "output_type": "execute_result"
    }
   ],
   "source": [
    "station_metadata_df"
   ]
  },
  {
   "cell_type": "code",
   "execution_count": 8,
   "id": "cfdff602-eaad-4dbb-aab4-a589c4a5f18c",
   "metadata": {},
   "outputs": [
    {
     "data": {
      "text/html": [
       "<div>\n",
       "<style scoped>\n",
       "    .dataframe tbody tr th:only-of-type {\n",
       "        vertical-align: middle;\n",
       "    }\n",
       "\n",
       "    .dataframe tbody tr th {\n",
       "        vertical-align: top;\n",
       "    }\n",
       "\n",
       "    .dataframe thead th {\n",
       "        text-align: right;\n",
       "    }\n",
       "</style>\n",
       "<table border=\"1\" class=\"dataframe\">\n",
       "  <thead>\n",
       "    <tr style=\"text-align: right;\">\n",
       "      <th></th>\n",
       "      <th>FILENAME</th>\n",
       "      <th>SAMPLE_TIMESTAMP</th>\n",
       "      <th>SAMPLE_DATE</th>\n",
       "      <th>ID</th>\n",
       "      <th>FLOW_1</th>\n",
       "      <th>OCCUPANCY_1</th>\n",
       "      <th>SPEED_1</th>\n",
       "      <th>FLOW_2</th>\n",
       "      <th>OCCUPANCY_2</th>\n",
       "      <th>SPEED_2</th>\n",
       "      <th>FLOW_3</th>\n",
       "      <th>OCCUPANCY_3</th>\n",
       "      <th>SPEED_3</th>\n",
       "      <th>FLOW_4</th>\n",
       "      <th>OCCUPANCY_4</th>\n",
       "      <th>SPEED_4</th>\n",
       "      <th>FLOW_5</th>\n",
       "      <th>OCCUPANCY_5</th>\n",
       "      <th>SPEED_5</th>\n",
       "      <th>FLOW_6</th>\n",
       "      <th>OCCUPANCY_6</th>\n",
       "      <th>SPEED_6</th>\n",
       "      <th>FLOW_7</th>\n",
       "      <th>OCCUPANCY_7</th>\n",
       "      <th>SPEED_7</th>\n",
       "      <th>FLOW_8</th>\n",
       "      <th>OCCUPANCY_8</th>\n",
       "      <th>SPEED_8</th>\n",
       "    </tr>\n",
       "  </thead>\n",
       "  <tbody>\n",
       "    <tr>\n",
       "      <th>0</th>\n",
       "      <td>clhouse/raw/d06/2018/11/d06_text_station_raw_2...</td>\n",
       "      <td>2018-11-12 21:35:11</td>\n",
       "      <td>2018-11-12</td>\n",
       "      <td>602408</td>\n",
       "      <td>2</td>\n",
       "      <td>0.013</td>\n",
       "      <td>77.0</td>\n",
       "      <td>2.0</td>\n",
       "      <td>0.011</td>\n",
       "      <td>75.0</td>\n",
       "      <td>2.0</td>\n",
       "      <td>0.059</td>\n",
       "      <td>58.0</td>\n",
       "      <td>NaN</td>\n",
       "      <td>NaN</td>\n",
       "      <td>NaN</td>\n",
       "      <td>NaN</td>\n",
       "      <td>NaN</td>\n",
       "      <td>NaN</td>\n",
       "      <td>NaN</td>\n",
       "      <td>NaN</td>\n",
       "      <td>NaN</td>\n",
       "      <td>NaN</td>\n",
       "      <td>NaN</td>\n",
       "      <td>NaN</td>\n",
       "      <td>NaN</td>\n",
       "      <td>NaN</td>\n",
       "      <td>NaN</td>\n",
       "    </tr>\n",
       "    <tr>\n",
       "      <th>1</th>\n",
       "      <td>clhouse/raw/d08/2018/11/d08_text_station_raw_2...</td>\n",
       "      <td>2018-11-12 21:03:05</td>\n",
       "      <td>2018-11-12</td>\n",
       "      <td>816010</td>\n",
       "      <td>9</td>\n",
       "      <td>0.061</td>\n",
       "      <td>70.0</td>\n",
       "      <td>NaN</td>\n",
       "      <td>NaN</td>\n",
       "      <td>NaN</td>\n",
       "      <td>NaN</td>\n",
       "      <td>NaN</td>\n",
       "      <td>NaN</td>\n",
       "      <td>NaN</td>\n",
       "      <td>NaN</td>\n",
       "      <td>NaN</td>\n",
       "      <td>NaN</td>\n",
       "      <td>NaN</td>\n",
       "      <td>NaN</td>\n",
       "      <td>NaN</td>\n",
       "      <td>NaN</td>\n",
       "      <td>NaN</td>\n",
       "      <td>NaN</td>\n",
       "      <td>NaN</td>\n",
       "      <td>NaN</td>\n",
       "      <td>NaN</td>\n",
       "      <td>NaN</td>\n",
       "      <td>NaN</td>\n",
       "    </tr>\n",
       "    <tr>\n",
       "      <th>2</th>\n",
       "      <td>clhouse/raw/d08/2018/11/d08_text_station_raw_2...</td>\n",
       "      <td>2018-11-12 21:28:06</td>\n",
       "      <td>2018-11-12</td>\n",
       "      <td>801250</td>\n",
       "      <td>7</td>\n",
       "      <td>0.054</td>\n",
       "      <td>78.0</td>\n",
       "      <td>NaN</td>\n",
       "      <td>NaN</td>\n",
       "      <td>NaN</td>\n",
       "      <td>NaN</td>\n",
       "      <td>NaN</td>\n",
       "      <td>NaN</td>\n",
       "      <td>NaN</td>\n",
       "      <td>NaN</td>\n",
       "      <td>NaN</td>\n",
       "      <td>NaN</td>\n",
       "      <td>NaN</td>\n",
       "      <td>NaN</td>\n",
       "      <td>NaN</td>\n",
       "      <td>NaN</td>\n",
       "      <td>NaN</td>\n",
       "      <td>NaN</td>\n",
       "      <td>NaN</td>\n",
       "      <td>NaN</td>\n",
       "      <td>NaN</td>\n",
       "      <td>NaN</td>\n",
       "      <td>NaN</td>\n",
       "    </tr>\n",
       "    <tr>\n",
       "      <th>3</th>\n",
       "      <td>clhouse/raw/d12/2018/11/d12_text_station_raw_2...</td>\n",
       "      <td>2018-11-12 22:46:39</td>\n",
       "      <td>2018-11-12</td>\n",
       "      <td>1203329</td>\n",
       "      <td>0</td>\n",
       "      <td>0.000</td>\n",
       "      <td>NaN</td>\n",
       "      <td>NaN</td>\n",
       "      <td>NaN</td>\n",
       "      <td>NaN</td>\n",
       "      <td>NaN</td>\n",
       "      <td>NaN</td>\n",
       "      <td>NaN</td>\n",
       "      <td>NaN</td>\n",
       "      <td>NaN</td>\n",
       "      <td>NaN</td>\n",
       "      <td>NaN</td>\n",
       "      <td>NaN</td>\n",
       "      <td>NaN</td>\n",
       "      <td>NaN</td>\n",
       "      <td>NaN</td>\n",
       "      <td>NaN</td>\n",
       "      <td>NaN</td>\n",
       "      <td>NaN</td>\n",
       "      <td>NaN</td>\n",
       "      <td>NaN</td>\n",
       "      <td>NaN</td>\n",
       "      <td>NaN</td>\n",
       "    </tr>\n",
       "    <tr>\n",
       "      <th>4</th>\n",
       "      <td>clhouse/raw/d08/2018/11/d08_text_station_raw_2...</td>\n",
       "      <td>2018-11-12 23:41:09</td>\n",
       "      <td>2018-11-12</td>\n",
       "      <td>808586</td>\n",
       "      <td>2</td>\n",
       "      <td>0.009</td>\n",
       "      <td>96.0</td>\n",
       "      <td>3.0</td>\n",
       "      <td>0.015</td>\n",
       "      <td>NaN</td>\n",
       "      <td>2.0</td>\n",
       "      <td>0.011</td>\n",
       "      <td>NaN</td>\n",
       "      <td>3.0</td>\n",
       "      <td>0.061</td>\n",
       "      <td>NaN</td>\n",
       "      <td>0.0</td>\n",
       "      <td>0.0</td>\n",
       "      <td>0.0</td>\n",
       "      <td>NaN</td>\n",
       "      <td>NaN</td>\n",
       "      <td>NaN</td>\n",
       "      <td>NaN</td>\n",
       "      <td>NaN</td>\n",
       "      <td>NaN</td>\n",
       "      <td>NaN</td>\n",
       "      <td>NaN</td>\n",
       "      <td>NaN</td>\n",
       "    </tr>\n",
       "    <tr>\n",
       "      <th>5</th>\n",
       "      <td>clhouse/raw/d12/2018/11/d12_text_station_raw_2...</td>\n",
       "      <td>2018-11-12 00:03:02</td>\n",
       "      <td>2018-11-12</td>\n",
       "      <td>1211624</td>\n",
       "      <td>0</td>\n",
       "      <td>0.000</td>\n",
       "      <td>NaN</td>\n",
       "      <td>0.0</td>\n",
       "      <td>0.000</td>\n",
       "      <td>NaN</td>\n",
       "      <td>0.0</td>\n",
       "      <td>0.000</td>\n",
       "      <td>NaN</td>\n",
       "      <td>1.0</td>\n",
       "      <td>0.007</td>\n",
       "      <td>NaN</td>\n",
       "      <td>NaN</td>\n",
       "      <td>NaN</td>\n",
       "      <td>NaN</td>\n",
       "      <td>NaN</td>\n",
       "      <td>NaN</td>\n",
       "      <td>NaN</td>\n",
       "      <td>NaN</td>\n",
       "      <td>NaN</td>\n",
       "      <td>NaN</td>\n",
       "      <td>NaN</td>\n",
       "      <td>NaN</td>\n",
       "      <td>NaN</td>\n",
       "    </tr>\n",
       "    <tr>\n",
       "      <th>6</th>\n",
       "      <td>clhouse/raw/d12/2018/11/d12_text_station_raw_2...</td>\n",
       "      <td>2018-11-12 22:46:39</td>\n",
       "      <td>2018-11-12</td>\n",
       "      <td>1203361</td>\n",
       "      <td>4</td>\n",
       "      <td>0.018</td>\n",
       "      <td>NaN</td>\n",
       "      <td>3.0</td>\n",
       "      <td>0.013</td>\n",
       "      <td>NaN</td>\n",
       "      <td>3.0</td>\n",
       "      <td>0.016</td>\n",
       "      <td>NaN</td>\n",
       "      <td>4.0</td>\n",
       "      <td>0.022</td>\n",
       "      <td>NaN</td>\n",
       "      <td>0.0</td>\n",
       "      <td>0.0</td>\n",
       "      <td>NaN</td>\n",
       "      <td>NaN</td>\n",
       "      <td>NaN</td>\n",
       "      <td>NaN</td>\n",
       "      <td>NaN</td>\n",
       "      <td>NaN</td>\n",
       "      <td>NaN</td>\n",
       "      <td>NaN</td>\n",
       "      <td>NaN</td>\n",
       "      <td>NaN</td>\n",
       "    </tr>\n",
       "    <tr>\n",
       "      <th>7</th>\n",
       "      <td>clhouse/raw/d12/2018/11/d12_text_station_raw_2...</td>\n",
       "      <td>2018-11-12 06:17:03</td>\n",
       "      <td>2018-11-12</td>\n",
       "      <td>1203979</td>\n",
       "      <td>3</td>\n",
       "      <td>0.037</td>\n",
       "      <td>NaN</td>\n",
       "      <td>NaN</td>\n",
       "      <td>NaN</td>\n",
       "      <td>NaN</td>\n",
       "      <td>NaN</td>\n",
       "      <td>NaN</td>\n",
       "      <td>NaN</td>\n",
       "      <td>NaN</td>\n",
       "      <td>NaN</td>\n",
       "      <td>NaN</td>\n",
       "      <td>NaN</td>\n",
       "      <td>NaN</td>\n",
       "      <td>NaN</td>\n",
       "      <td>NaN</td>\n",
       "      <td>NaN</td>\n",
       "      <td>NaN</td>\n",
       "      <td>NaN</td>\n",
       "      <td>NaN</td>\n",
       "      <td>NaN</td>\n",
       "      <td>NaN</td>\n",
       "      <td>NaN</td>\n",
       "      <td>NaN</td>\n",
       "    </tr>\n",
       "    <tr>\n",
       "      <th>8</th>\n",
       "      <td>clhouse/raw/d08/2018/11/d08_text_station_raw_2...</td>\n",
       "      <td>2018-11-12 18:23:05</td>\n",
       "      <td>2018-11-12</td>\n",
       "      <td>824428</td>\n",
       "      <td>17</td>\n",
       "      <td>0.151</td>\n",
       "      <td>56.0</td>\n",
       "      <td>17.0</td>\n",
       "      <td>0.169</td>\n",
       "      <td>48.0</td>\n",
       "      <td>NaN</td>\n",
       "      <td>NaN</td>\n",
       "      <td>NaN</td>\n",
       "      <td>NaN</td>\n",
       "      <td>NaN</td>\n",
       "      <td>NaN</td>\n",
       "      <td>NaN</td>\n",
       "      <td>NaN</td>\n",
       "      <td>NaN</td>\n",
       "      <td>NaN</td>\n",
       "      <td>NaN</td>\n",
       "      <td>NaN</td>\n",
       "      <td>NaN</td>\n",
       "      <td>NaN</td>\n",
       "      <td>NaN</td>\n",
       "      <td>NaN</td>\n",
       "      <td>NaN</td>\n",
       "      <td>NaN</td>\n",
       "    </tr>\n",
       "    <tr>\n",
       "      <th>9</th>\n",
       "      <td>clhouse/raw/d10/2018/11/d10_text_station_raw_2...</td>\n",
       "      <td>2018-11-12 17:44:14</td>\n",
       "      <td>2018-11-12</td>\n",
       "      <td>1097610</td>\n",
       "      <td>4</td>\n",
       "      <td>0.056</td>\n",
       "      <td>31.0</td>\n",
       "      <td>NaN</td>\n",
       "      <td>NaN</td>\n",
       "      <td>NaN</td>\n",
       "      <td>NaN</td>\n",
       "      <td>NaN</td>\n",
       "      <td>NaN</td>\n",
       "      <td>NaN</td>\n",
       "      <td>NaN</td>\n",
       "      <td>NaN</td>\n",
       "      <td>NaN</td>\n",
       "      <td>NaN</td>\n",
       "      <td>NaN</td>\n",
       "      <td>NaN</td>\n",
       "      <td>NaN</td>\n",
       "      <td>NaN</td>\n",
       "      <td>NaN</td>\n",
       "      <td>NaN</td>\n",
       "      <td>NaN</td>\n",
       "      <td>NaN</td>\n",
       "      <td>NaN</td>\n",
       "      <td>NaN</td>\n",
       "    </tr>\n",
       "  </tbody>\n",
       "</table>\n",
       "</div>"
      ],
      "text/plain": [
       "                                            FILENAME    SAMPLE_TIMESTAMP  \\\n",
       "0  clhouse/raw/d06/2018/11/d06_text_station_raw_2... 2018-11-12 21:35:11   \n",
       "1  clhouse/raw/d08/2018/11/d08_text_station_raw_2... 2018-11-12 21:03:05   \n",
       "2  clhouse/raw/d08/2018/11/d08_text_station_raw_2... 2018-11-12 21:28:06   \n",
       "3  clhouse/raw/d12/2018/11/d12_text_station_raw_2... 2018-11-12 22:46:39   \n",
       "4  clhouse/raw/d08/2018/11/d08_text_station_raw_2... 2018-11-12 23:41:09   \n",
       "5  clhouse/raw/d12/2018/11/d12_text_station_raw_2... 2018-11-12 00:03:02   \n",
       "6  clhouse/raw/d12/2018/11/d12_text_station_raw_2... 2018-11-12 22:46:39   \n",
       "7  clhouse/raw/d12/2018/11/d12_text_station_raw_2... 2018-11-12 06:17:03   \n",
       "8  clhouse/raw/d08/2018/11/d08_text_station_raw_2... 2018-11-12 18:23:05   \n",
       "9  clhouse/raw/d10/2018/11/d10_text_station_raw_2... 2018-11-12 17:44:14   \n",
       "\n",
       "  SAMPLE_DATE       ID  FLOW_1  OCCUPANCY_1  SPEED_1  FLOW_2  OCCUPANCY_2  \\\n",
       "0  2018-11-12   602408       2        0.013     77.0     2.0        0.011   \n",
       "1  2018-11-12   816010       9        0.061     70.0     NaN          NaN   \n",
       "2  2018-11-12   801250       7        0.054     78.0     NaN          NaN   \n",
       "3  2018-11-12  1203329       0        0.000      NaN     NaN          NaN   \n",
       "4  2018-11-12   808586       2        0.009     96.0     3.0        0.015   \n",
       "5  2018-11-12  1211624       0        0.000      NaN     0.0        0.000   \n",
       "6  2018-11-12  1203361       4        0.018      NaN     3.0        0.013   \n",
       "7  2018-11-12  1203979       3        0.037      NaN     NaN          NaN   \n",
       "8  2018-11-12   824428      17        0.151     56.0    17.0        0.169   \n",
       "9  2018-11-12  1097610       4        0.056     31.0     NaN          NaN   \n",
       "\n",
       "   SPEED_2  FLOW_3  OCCUPANCY_3  SPEED_3  FLOW_4  OCCUPANCY_4  SPEED_4  \\\n",
       "0     75.0     2.0        0.059     58.0     NaN          NaN      NaN   \n",
       "1      NaN     NaN          NaN      NaN     NaN          NaN      NaN   \n",
       "2      NaN     NaN          NaN      NaN     NaN          NaN      NaN   \n",
       "3      NaN     NaN          NaN      NaN     NaN          NaN      NaN   \n",
       "4      NaN     2.0        0.011      NaN     3.0        0.061      NaN   \n",
       "5      NaN     0.0        0.000      NaN     1.0        0.007      NaN   \n",
       "6      NaN     3.0        0.016      NaN     4.0        0.022      NaN   \n",
       "7      NaN     NaN          NaN      NaN     NaN          NaN      NaN   \n",
       "8     48.0     NaN          NaN      NaN     NaN          NaN      NaN   \n",
       "9      NaN     NaN          NaN      NaN     NaN          NaN      NaN   \n",
       "\n",
       "   FLOW_5  OCCUPANCY_5  SPEED_5  FLOW_6  OCCUPANCY_6  SPEED_6  FLOW_7  \\\n",
       "0     NaN          NaN      NaN     NaN          NaN      NaN     NaN   \n",
       "1     NaN          NaN      NaN     NaN          NaN      NaN     NaN   \n",
       "2     NaN          NaN      NaN     NaN          NaN      NaN     NaN   \n",
       "3     NaN          NaN      NaN     NaN          NaN      NaN     NaN   \n",
       "4     0.0          0.0      0.0     NaN          NaN      NaN     NaN   \n",
       "5     NaN          NaN      NaN     NaN          NaN      NaN     NaN   \n",
       "6     0.0          0.0      NaN     NaN          NaN      NaN     NaN   \n",
       "7     NaN          NaN      NaN     NaN          NaN      NaN     NaN   \n",
       "8     NaN          NaN      NaN     NaN          NaN      NaN     NaN   \n",
       "9     NaN          NaN      NaN     NaN          NaN      NaN     NaN   \n",
       "\n",
       "   OCCUPANCY_7  SPEED_7  FLOW_8  OCCUPANCY_8  SPEED_8  \n",
       "0          NaN      NaN     NaN          NaN      NaN  \n",
       "1          NaN      NaN     NaN          NaN      NaN  \n",
       "2          NaN      NaN     NaN          NaN      NaN  \n",
       "3          NaN      NaN     NaN          NaN      NaN  \n",
       "4          NaN      NaN     NaN          NaN      NaN  \n",
       "5          NaN      NaN     NaN          NaN      NaN  \n",
       "6          NaN      NaN     NaN          NaN      NaN  \n",
       "7          NaN      NaN     NaN          NaN      NaN  \n",
       "8          NaN      NaN     NaN          NaN      NaN  \n",
       "9          NaN      NaN     NaN          NaN      NaN  "
      ]
     },
     "execution_count": 8,
     "metadata": {},
     "output_type": "execute_result"
    }
   ],
   "source": [
    "station_raw_df"
   ]
  },
  {
   "cell_type": "markdown",
   "id": "27d7c90b-c186-4252-924d-48f7c83346e3",
   "metadata": {},
   "source": [
    "### Question 1. Are all the data available for District 5 from the [District Map and County Chart](https://cwwp2.dot.ca.gov/documentation/district-map-county-chart.htm) during 2023?\n",
    "\n",
    "1. Filter the station metadata file to look at `DISTRICT` values of 5.\n",
    "2. Strip away all old versions of the data by selecting the most recent unique ID.\n",
    "3. Select all station IDs within District 5 that took data in 2023.\n",
    "4. Merge the raw and metadata files on the keyword `ID`.\n",
    "5. Look at the keyword `SAMPLE_TIMESTAMP` in the `STATION_RAW` table to plot the timestamps for any given freeway."
   ]
  },
  {
   "cell_type": "markdown",
   "id": "6d788215-6494-46f7-abb3-a8f0532f52b6",
   "metadata": {},
   "source": [
    "##### 1. Filter the station metadata file to look at `DISTRICT` values of 5."
   ]
  },
  {
   "cell_type": "code",
   "execution_count": 9,
   "id": "9e2cc63a-8d25-48c3-8414-1a005c1210d9",
   "metadata": {},
   "outputs": [],
   "source": [
    "district_5_filter = station_metadata.filter(station_metadata[\"DISTRICT\"] == \"5\")"
   ]
  },
  {
   "cell_type": "code",
   "execution_count": 10,
   "id": "9b4886ed-2c65-47c6-924f-a2c53d13e7b9",
   "metadata": {},
   "outputs": [],
   "source": [
    "district_5_df = district_5_filter.execute()"
   ]
  },
  {
   "cell_type": "markdown",
   "id": "7a3bde3e-e44f-4940-af79-58f4346f2aba",
   "metadata": {},
   "source": [
    "##### 2. Strip away all old versions of the data by selecting the most recent unique ID."
   ]
  },
  {
   "cell_type": "markdown",
   "id": "2f244f6d-e059-4946-bf50-0d0e6e464a55",
   "metadata": {},
   "source": [
    "Identify the number of unique values of ID in District 5."
   ]
  },
  {
   "cell_type": "code",
   "execution_count": 11,
   "id": "33c6ba80-74a5-4265-a02c-3e30ae0c767e",
   "metadata": {},
   "outputs": [
    {
     "name": "stdout",
     "output_type": "stream",
     "text": [
      "There are 706 unique values of ID in District 5.\n"
     ]
    }
   ],
   "source": [
    "print('There are {} unique values of ID in District 5.'.format(district_5_df['ID'].nunique()))"
   ]
  },
  {
   "cell_type": "markdown",
   "id": "f86cc7e8-c597-45c0-9d80-dbe9160c6bd6",
   "metadata": {},
   "source": [
    "Construct a new column called `DATA_VERSION`."
   ]
  },
  {
   "cell_type": "code",
   "execution_count": 12,
   "id": "6a93b147-5120-4d67-bfb8-be40f9a1f09d",
   "metadata": {},
   "outputs": [],
   "source": [
    "district_5_df['DATA_VERSION'] = np.NaN"
   ]
  },
  {
   "cell_type": "markdown",
   "id": "976182bd-1581-4035-a15e-fdb7b0570ca8",
   "metadata": {},
   "source": [
    "Extract the date from the `FILENAME` keyword. Populate these dates in the `DATA_VERSION` keyword."
   ]
  },
  {
   "cell_type": "code",
   "execution_count": 13,
   "id": "5d82da40-4494-4a6b-9f54-ba88f093f782",
   "metadata": {},
   "outputs": [],
   "source": [
    "data_version = [dt_obj.strptime(filename[39:49], '%Y_%m_%d') for filename in district_5_df['FILENAME'].values]"
   ]
  },
  {
   "cell_type": "code",
   "execution_count": 14,
   "id": "6ab6df08-e5dc-4860-8a39-8e5dd0d40304",
   "metadata": {},
   "outputs": [],
   "source": [
    "district_5_df['DATA_VERSION'] = data_version"
   ]
  },
  {
   "cell_type": "markdown",
   "id": "c7ce6af5-cd47-4a6d-913b-b9627211482d",
   "metadata": {},
   "source": [
    "Select the most recent `DATA_VERSION` for each unique ID. Drop the rest. The dataframe `district_5_recent_version_df` contains the most recent metadata values for each station ID."
   ]
  },
  {
   "cell_type": "code",
   "execution_count": 15,
   "id": "4eaaac42-37bd-4125-965e-df0fd21f56d9",
   "metadata": {},
   "outputs": [],
   "source": [
    "unique_IDs = district_5_df['ID'].value_counts().index.to_list()"
   ]
  },
  {
   "cell_type": "code",
   "execution_count": 16,
   "id": "1a9069cf-62dd-4931-95c1-45329e7870d4",
   "metadata": {},
   "outputs": [],
   "source": [
    "drop_these_rows = []\n",
    "for i in range(len(unique_IDs)):\n",
    "    ID_subset = district_5_df[district_5_df['ID'] == unique_IDs[i]]\n",
    "    index_for_max_value = ID_subset['DATA_VERSION'].idxmax()\n",
    "    indices_for_rows_to_drop = ID_subset.drop(index_for_max_value).index.to_list()\n",
    "    drop_these_rows.append(indices_for_rows_to_drop)"
   ]
  },
  {
   "cell_type": "code",
   "execution_count": 17,
   "id": "15bd8af6-0f87-431f-8e66-3ccc1750baa4",
   "metadata": {},
   "outputs": [],
   "source": [
    "drop_these_rows_flattened = list(itertools.chain.from_iterable(drop_these_rows))"
   ]
  },
  {
   "cell_type": "code",
   "execution_count": 18,
   "id": "71b96318-cbd8-40ab-9a93-83c18f32ca00",
   "metadata": {},
   "outputs": [],
   "source": [
    "district_5_recent_version_df = district_5_df.drop(drop_these_rows_flattened).reset_index(drop=True)"
   ]
  },
  {
   "cell_type": "markdown",
   "id": "92b3f2a4-2d2f-4fd2-8409-d9d992a6f46e",
   "metadata": {},
   "source": [
    "Have some of these data been updated in 2023? Yes."
   ]
  },
  {
   "cell_type": "code",
   "execution_count": 19,
   "id": "2ff347df-2668-4b22-bf26-fb3d03f692c1",
   "metadata": {},
   "outputs": [
    {
     "data": {
      "text/plain": [
       "Timestamp('2023-11-17 00:00:00')"
      ]
     },
     "execution_count": 19,
     "metadata": {},
     "output_type": "execute_result"
    }
   ],
   "source": [
    "max(district_5_recent_version_df['DATA_VERSION'])"
   ]
  },
  {
   "cell_type": "markdown",
   "id": "877fcb09-a7b3-4aa3-b78a-0b630328270e",
   "metadata": {},
   "source": [
    "##### 3. Select all station IDs within District 5 that took data in 2023."
   ]
  },
  {
   "cell_type": "code",
   "execution_count": 48,
   "id": "9772e829-d913-41cd-9f82-40e11d447847",
   "metadata": {},
   "outputs": [],
   "source": [
    "# Select dates within the year 2023\n",
    "date_selection_start = '2023-03-01'\n",
    "date_selection_end = '2023-03-10'"
   ]
  },
  {
   "cell_type": "code",
   "execution_count": 61,
   "id": "695aa442-9fef-4064-97a1-1dc0962d3902",
   "metadata": {},
   "outputs": [
    {
     "name": "stdout",
     "output_type": "stream",
     "text": [
      "2023-03-01\n",
      "2023-03-10\n"
     ]
    }
   ],
   "source": [
    "print(date_selection_start)\n",
    "print(date_selection_end)"
   ]
  },
  {
   "cell_type": "code",
   "execution_count": 69,
   "id": "c303337f-0d64-4d4f-a4b2-f039b0f2be86",
   "metadata": {},
   "outputs": [],
   "source": [
    "date_and_ID_filter = station_raw.select(\"SAMPLE_DATE\",\"SAMPLE_TIMESTAMP\",\"FILENAME\",\"ID\").filter(\n",
    "    (station_raw[\"SAMPLE_DATE\"] >= '2023-03-01') & (station_raw[\"SAMPLE_DATE\"] < '2023-03-10')\n",
    ").filter(\n",
    "    station_raw[\"FILENAME\"].contains(\"/d05\")\n",
    ").select(\"ID\",\"SAMPLE_TIMESTAMP\")"
   ]
  },
  {
   "cell_type": "code",
   "execution_count": 70,
   "id": "53cfa906-a4b6-4205-907c-0396ab376f4e",
   "metadata": {},
   "outputs": [
    {
     "name": "stdout",
     "output_type": "stream",
     "text": [
      "CPU times: user 5.08 s, sys: 1.14 s, total: 6.22 s\n",
      "Wall time: 25.2 s\n"
     ]
    }
   ],
   "source": [
    "%%time\n",
    "out = date_and_ID_filter.execute()"
   ]
  },
  {
   "cell_type": "code",
   "execution_count": 162,
   "id": "a55bd620-9a20-4f99-8c05-df3db32154f2",
   "metadata": {},
   "outputs": [
    {
     "data": {
      "text/plain": [
       "566"
      ]
     },
     "execution_count": 162,
     "metadata": {},
     "output_type": "execute_result"
    }
   ],
   "source": [
    "# A list of all the station IDs that took data in 2023\n",
    "IDs_in_D5_with_2023_data = out['ID'].value_counts().index.to_list();\n",
    "len(IDs_in_D5_with_2023_data)"
   ]
  },
  {
   "cell_type": "code",
   "execution_count": 163,
   "id": "51aa8409-1405-4172-abd8-41a05f037e6f",
   "metadata": {},
   "outputs": [
    {
     "data": {
      "text/plain": [
       "706"
      ]
     },
     "execution_count": 163,
     "metadata": {},
     "output_type": "execute_result"
    }
   ],
   "source": [
    "# A list of all the station IDs in District 5\n",
    "IDs_in_D5 = district_5_recent_version_df[\"ID\"].to_list();\n",
    "len(IDs_in_D5)"
   ]
  },
  {
   "cell_type": "code",
   "execution_count": 164,
   "id": "f4b5d883-1bb9-40ef-9e17-a6db0f0be33e",
   "metadata": {},
   "outputs": [],
   "source": [
    "# Find unique values within two lists\n",
    "common_values = list(set(IDs_in_D5_with_2023_data).symmetric_difference(set(IDs_in_D5)))"
   ]
  },
  {
   "cell_type": "markdown",
   "id": "fe7d95b7-665f-457e-89ca-2dcf2cdc3980",
   "metadata": {},
   "source": [
    "Why is this?"
   ]
  },
  {
   "cell_type": "code",
   "execution_count": 165,
   "id": "c798af6d-6ed4-4543-9076-eb1bda49dd89",
   "metadata": {},
   "outputs": [
    {
     "data": {
      "text/plain": [
       "146"
      ]
     },
     "execution_count": 165,
     "metadata": {},
     "output_type": "execute_result"
    }
   ],
   "source": [
    "len(common_values)"
   ]
  },
  {
   "cell_type": "code",
   "execution_count": 258,
   "id": "40c2aed6-f8d8-41de-9be1-10c39a954acf",
   "metadata": {},
   "outputs": [
    {
     "data": {
      "text/html": [
       "<div>\n",
       "<style scoped>\n",
       "    .dataframe tbody tr th:only-of-type {\n",
       "        vertical-align: middle;\n",
       "    }\n",
       "\n",
       "    .dataframe tbody tr th {\n",
       "        vertical-align: top;\n",
       "    }\n",
       "\n",
       "    .dataframe thead th {\n",
       "        text-align: right;\n",
       "    }\n",
       "</style>\n",
       "<table border=\"1\" class=\"dataframe\">\n",
       "  <thead>\n",
       "    <tr style=\"text-align: right;\">\n",
       "      <th></th>\n",
       "      <th>ID</th>\n",
       "      <th>SAMPLE_TIMESTAMP</th>\n",
       "    </tr>\n",
       "  </thead>\n",
       "  <tbody>\n",
       "  </tbody>\n",
       "</table>\n",
       "</div>"
      ],
      "text/plain": [
       "Empty DataFrame\n",
       "Columns: [ID, SAMPLE_TIMESTAMP]\n",
       "Index: []"
      ]
     },
     "execution_count": 258,
     "metadata": {},
     "output_type": "execute_result"
    }
   ],
   "source": [
    "out[out[\"ID\"] == common_values[0]]"
   ]
  },
  {
   "cell_type": "markdown",
   "id": "09206fd6-b344-434e-89b2-4fe13543f597",
   "metadata": {},
   "source": [
    "Anyway, look at 101 N for now:"
   ]
  },
  {
   "cell_type": "code",
   "execution_count": 156,
   "id": "bad895a1-cc6f-49bb-aada-883280d85362",
   "metadata": {},
   "outputs": [],
   "source": [
    "merged_df = out.merge(district_5_recent_version_df, on=['ID'], how='left')"
   ]
  },
  {
   "cell_type": "code",
   "execution_count": 253,
   "id": "12c8ad5a-745e-459e-92b4-c703fa67382a",
   "metadata": {},
   "outputs": [],
   "source": [
    "dates = merged_df[merged_df[\"ID\"] == common_values[0]].sort_values([\"SAMPLE_TIMESTAMP\"]).reset_index(drop=True)"
   ]
  },
  {
   "cell_type": "code",
   "execution_count": 254,
   "id": "e60f22df-ff50-4564-8c16-c587e896d3d6",
   "metadata": {},
   "outputs": [
    {
     "data": {
      "image/png": "[encoded data removed]",
      "text/plain": [
       "<Figure size 1200x200 with 1 Axes>"
      ]
     },
     "metadata": {
      "image/png": {
       "height": 211,
       "width": 1211
      }
     },
     "output_type": "display_data"
    }
   ],
   "source": [
    "# Create figure and plot a stem plot with the date\n",
    "fig, ax = plt.subplots(figsize=(12, 2), layout=\"constrained\")\n",
    "ax.set(title=\"Sensor Data for Traffic on 101N through District 5 in 2023\")\n",
    "\n",
    "# Plot timeline\n",
    "dates = dates[\"SAMPLE_TIMESTAMP\"]\n",
    "ax.plot(dates, np.zeros_like(dates), \"-o\", color=\"blue\", markerfacecolor=\"blue\")  # Baseline and markers on it.\n",
    "\n",
    "# Plot labels\n",
    "plt.setp(ax.get_xticklabels(), rotation=30, ha=\"right\")\n",
    "\n",
    "# Remove y-axis and spines\n",
    "ax.yaxis.set_visible(False)\n",
    "ax.spines[[\"left\", \"top\", \"right\"]].set_visible(False)\n",
    "\n",
    "plt.show()"
   ]
  },
  {
   "cell_type": "code",
   "execution_count": 213,
   "id": "3862057e-38c1-4052-b328-41a9eff8ce47",
   "metadata": {},
   "outputs": [],
   "source": []
  }
 ],
 "metadata": {
  "kernelspec": {
   "display_name": "Python 3 (ipykernel)",
   "language": "python",
   "name": "python3"
  },
  "language_info": {
   "codemirror_mode": {
    "name": "ipython",
    "version": 3
   },
   "file_extension": ".py",
   "mimetype": "text/x-python",
   "name": "python",
   "nbconvert_exporter": "python",
   "pygments_lexer": "ipython3",
   "version": "3.10.12"
  }
 },
 "nbformat": 4,
 "nbformat_minor": 5
}
