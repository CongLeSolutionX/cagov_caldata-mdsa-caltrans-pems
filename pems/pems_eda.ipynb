{
 "cells": [
  {
   "cell_type": "markdown",
   "id": "08383838-0014-46c2-9bf4-102efbed4db1",
   "metadata": {},
   "source": [
    "# CalTrans Pems Project\n",
    "\n",
    "Step 1. Look for missing data"
   ]
  },
  {
   "cell_type": "code",
   "execution_count": null,
   "id": "a0104b62-6c8c-438b-bd9b-4b0df044ff01",
   "metadata": {},
   "outputs": [],
   "source": []
  }
 ],
 "metadata": {
  "kernelspec": {
   "display_name": "Python 3 (ipykernel)",
   "language": "python",
   "name": "python3"
  },
  "language_info": {
   "codemirror_mode": {
    "name": "ipython",
    "version": 3
   },
   "file_extension": ".py",
   "mimetype": "text/x-python",
   "name": "python",
   "nbconvert_exporter": "python",
   "pygments_lexer": "ipython3",
   "version": "3.10.12"
  }
 },
 "nbformat": 4,
 "nbformat_minor": 5
}
